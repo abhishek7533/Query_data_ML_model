{
 "cells": [
  {
   "cell_type": "markdown",
   "id": "a49b7252",
   "metadata": {},
   "source": [
    "# Import Modules"
   ]
  },
  {
   "cell_type": "code",
   "execution_count": 1,
   "id": "3fd7cf30",
   "metadata": {},
   "outputs": [],
   "source": [
    "import pandas as pd\n",
    "import numpy as np\n",
    "import seaborn as sns\n",
    "from matplotlib import pyplot as plt\n",
    "import matplotlib\n",
    "%matplotlib inline\n",
    "import warnings\n",
    "warnings.filterwarnings('ignore')"
   ]
  },
  {
   "cell_type": "markdown",
   "id": "c1b2f77a",
   "metadata": {},
   "source": [
    "# Loading the dataset"
   ]
  },
  {
   "cell_type": "code",
   "execution_count": 2,
   "id": "a1e1b613",
   "metadata": {},
   "outputs": [
    {
     "data": {
      "text/html": [
       "<div>\n",
       "<style scoped>\n",
       "    .dataframe tbody tr th:only-of-type {\n",
       "        vertical-align: middle;\n",
       "    }\n",
       "\n",
       "    .dataframe tbody tr th {\n",
       "        vertical-align: top;\n",
       "    }\n",
       "\n",
       "    .dataframe thead th {\n",
       "        text-align: right;\n",
       "    }\n",
       "</style>\n",
       "<table border=\"1\" class=\"dataframe\">\n",
       "  <thead>\n",
       "    <tr style=\"text-align: right;\">\n",
       "      <th></th>\n",
       "      <th>Application_ID</th>\n",
       "      <th>Gender</th>\n",
       "      <th>Married</th>\n",
       "      <th>Dependents</th>\n",
       "      <th>Education</th>\n",
       "      <th>Self_Employed</th>\n",
       "      <th>Credit_History</th>\n",
       "      <th>Property_Area</th>\n",
       "      <th>Income</th>\n",
       "      <th>Application_Status</th>\n",
       "    </tr>\n",
       "  </thead>\n",
       "  <tbody>\n",
       "    <tr>\n",
       "      <th>0</th>\n",
       "      <td>LP001002</td>\n",
       "      <td>Male</td>\n",
       "      <td>No</td>\n",
       "      <td>0</td>\n",
       "      <td>Graduate</td>\n",
       "      <td>No</td>\n",
       "      <td>1</td>\n",
       "      <td>Urban</td>\n",
       "      <td>medium</td>\n",
       "      <td>Y</td>\n",
       "    </tr>\n",
       "    <tr>\n",
       "      <th>1</th>\n",
       "      <td>LP001003</td>\n",
       "      <td>Male</td>\n",
       "      <td>Yes</td>\n",
       "      <td>1</td>\n",
       "      <td>Graduate</td>\n",
       "      <td>No</td>\n",
       "      <td>1</td>\n",
       "      <td>Rural</td>\n",
       "      <td>medium</td>\n",
       "      <td>N</td>\n",
       "    </tr>\n",
       "    <tr>\n",
       "      <th>2</th>\n",
       "      <td>LP001005</td>\n",
       "      <td>Male</td>\n",
       "      <td>Yes</td>\n",
       "      <td>0</td>\n",
       "      <td>Graduate</td>\n",
       "      <td>Yes</td>\n",
       "      <td>1</td>\n",
       "      <td>Urban</td>\n",
       "      <td>low</td>\n",
       "      <td>Y</td>\n",
       "    </tr>\n",
       "    <tr>\n",
       "      <th>3</th>\n",
       "      <td>LP001006</td>\n",
       "      <td>Male</td>\n",
       "      <td>Yes</td>\n",
       "      <td>0</td>\n",
       "      <td>Not Graduate</td>\n",
       "      <td>No</td>\n",
       "      <td>1</td>\n",
       "      <td>Urban</td>\n",
       "      <td>low</td>\n",
       "      <td>Y</td>\n",
       "    </tr>\n",
       "    <tr>\n",
       "      <th>4</th>\n",
       "      <td>LP001008</td>\n",
       "      <td>Male</td>\n",
       "      <td>No</td>\n",
       "      <td>0</td>\n",
       "      <td>Graduate</td>\n",
       "      <td>No</td>\n",
       "      <td>1</td>\n",
       "      <td>Urban</td>\n",
       "      <td>medium</td>\n",
       "      <td>Y</td>\n",
       "    </tr>\n",
       "  </tbody>\n",
       "</table>\n",
       "</div>"
      ],
      "text/plain": [
       "  Application_ID Gender Married Dependents     Education Self_Employed  \\\n",
       "0       LP001002   Male      No          0      Graduate            No   \n",
       "1       LP001003   Male     Yes          1      Graduate            No   \n",
       "2       LP001005   Male     Yes          0      Graduate           Yes   \n",
       "3       LP001006   Male     Yes          0  Not Graduate            No   \n",
       "4       LP001008   Male      No          0      Graduate            No   \n",
       "\n",
       "   Credit_History Property_Area  Income Application_Status  \n",
       "0               1         Urban  medium                  Y  \n",
       "1               1         Rural  medium                  N  \n",
       "2               1         Urban     low                  Y  \n",
       "3               1         Urban     low                  Y  \n",
       "4               1         Urban  medium                  Y  "
      ]
     },
     "execution_count": 2,
     "metadata": {},
     "output_type": "execute_result"
    }
   ],
   "source": [
    "df=pd.read_json (r'loan_data.json')\n",
    "df.head()"
   ]
  },
  {
   "cell_type": "code",
   "execution_count": 3,
   "id": "354a6f7d",
   "metadata": {},
   "outputs": [
    {
     "data": {
      "text/plain": [
       "(511, 10)"
      ]
     },
     "execution_count": 3,
     "metadata": {},
     "output_type": "execute_result"
    }
   ],
   "source": [
    "df.shape"
   ]
  },
  {
   "cell_type": "markdown",
   "id": "c01c9258",
   "metadata": {},
   "source": [
    "# Dataset Information"
   ]
  },
  {
   "cell_type": "markdown",
   "id": "7f57997e",
   "metadata": {},
   "source": [
    "All the columns are object type except Credit_History."
   ]
  },
  {
   "cell_type": "code",
   "execution_count": 4,
   "id": "b0cb722c",
   "metadata": {},
   "outputs": [
    {
     "name": "stdout",
     "output_type": "stream",
     "text": [
      "<class 'pandas.core.frame.DataFrame'>\n",
      "RangeIndex: 511 entries, 0 to 510\n",
      "Data columns (total 10 columns):\n",
      " #   Column              Non-Null Count  Dtype \n",
      "---  ------              --------------  ----- \n",
      " 0   Application_ID      511 non-null    object\n",
      " 1   Gender              511 non-null    object\n",
      " 2   Married             511 non-null    object\n",
      " 3   Dependents          511 non-null    object\n",
      " 4   Education           511 non-null    object\n",
      " 5   Self_Employed       511 non-null    object\n",
      " 6   Credit_History      511 non-null    int64 \n",
      " 7   Property_Area       511 non-null    object\n",
      " 8   Income              511 non-null    object\n",
      " 9   Application_Status  511 non-null    object\n",
      "dtypes: int64(1), object(9)\n",
      "memory usage: 40.0+ KB\n"
     ]
    }
   ],
   "source": [
    "df.info()"
   ]
  },
  {
   "cell_type": "markdown",
   "id": "2bd8d348",
   "metadata": {},
   "source": [
    "# 1. Find % of total applicants for each unique value of dependents"
   ]
  },
  {
   "cell_type": "code",
   "execution_count": 5,
   "id": "1a8d738f",
   "metadata": {},
   "outputs": [
    {
     "data": {
      "text/plain": [
       "array(['0', '1', '2', '3+'], dtype=object)"
      ]
     },
     "execution_count": 5,
     "metadata": {},
     "output_type": "execute_result"
    },
    {
     "data": {
      "image/png": "[encoded data removed]",
      "text/plain": [
       "<Figure size 432x288 with 1 Axes>"
      ]
     },
     "metadata": {
      "needs_background": "light"
     },
     "output_type": "display_data"
    }
   ],
   "source": [
    "sns.countplot(df['Dependents'])\n",
    "df['Dependents'].unique()"
   ]
  },
  {
   "cell_type": "code",
   "execution_count": 6,
   "id": "19b99e8c",
   "metadata": {},
   "outputs": [
    {
     "name": "stdout",
     "output_type": "stream",
     "text": [
      "0     294\n",
      "2      88\n",
      "1      85\n",
      "3+     44\n",
      "Name: Dependents, dtype: int64\n"
     ]
    }
   ],
   "source": [
    "x=df['Dependents'].value_counts(dropna=False)\n",
    "print(x)"
   ]
  },
  {
   "cell_type": "markdown",
   "id": "a3ce1ed9",
   "metadata": {},
   "source": [
    "value_counts gives the count of unique value\n",
    "in a column and normalize returns the value\n",
    "after division with number of columns    "
   ]
  },
  {
   "cell_type": "code",
   "execution_count": 7,
   "id": "48d1c1f9",
   "metadata": {},
   "outputs": [
    {
     "name": "stdout",
     "output_type": "stream",
     "text": [
      "0     57.534247\n",
      "2     17.221135\n",
      "1     16.634051\n",
      "3+     8.610568\n",
      "Name: Dependents, dtype: float64\n"
     ]
    }
   ],
   "source": [
    "Percentage_of_applicants = df['Dependents'].value_counts(normalize=True)*100\n",
    "print(Percentage_of_applicants)"
   ]
  },
  {
   "cell_type": "markdown",
   "id": "39276e4f",
   "metadata": {},
   "source": [
    "# 2. Find the average number of dependents per applicant"
   ]
  },
  {
   "cell_type": "markdown",
   "id": "83df7590",
   "metadata": {},
   "source": [
    "Assuming Dependents > 3(3+) as 3 and doing the type conversion"
   ]
  },
  {
   "cell_type": "code",
   "execution_count": 8,
   "id": "ee744e10",
   "metadata": {},
   "outputs": [],
   "source": [
    "df['Dependents'] = df['Dependents'].replace('3+',3).astype(int)"
   ]
  },
  {
   "cell_type": "code",
   "execution_count": 9,
   "id": "9e6dbccd",
   "metadata": {},
   "outputs": [],
   "source": [
    "avg_dependents = sum(df['Dependents'])/df.shape[0]"
   ]
  },
  {
   "cell_type": "code",
   "execution_count": 10,
   "id": "1fea6040",
   "metadata": {},
   "outputs": [
    {
     "name": "stdout",
     "output_type": "stream",
     "text": [
      "Average dependent per applicant: 0.7690802348336595\n"
     ]
    }
   ],
   "source": [
    "print(\"Average dependent per applicant: \"+str(avg_dependents))"
   ]
  },
  {
   "cell_type": "markdown",
   "id": "946083d0",
   "metadata": {},
   "source": [
    "# 3. Find the %of applications approved for self-employed applicants"
   ]
  },
  {
   "cell_type": "code",
   "execution_count": 11,
   "id": "81a63bee",
   "metadata": {},
   "outputs": [
    {
     "data": {
      "text/plain": [
       "<AxesSubplot:xlabel='Self_Employed', ylabel='count'>"
      ]
     },
     "execution_count": 11,
     "metadata": {},
     "output_type": "execute_result"
    },
    {
     "data": {
      "image/png": "[encoded data removed]",
      "text/plain": [
       "<Figure size 432x288 with 1 Axes>"
      ]
     },
     "metadata": {
      "needs_background": "light"
     },
     "output_type": "display_data"
    }
   ],
   "source": [
    "sns.countplot(df['Self_Employed'])"
   ]
  },
  {
   "cell_type": "code",
   "execution_count": 12,
   "id": "c11c77a7",
   "metadata": {},
   "outputs": [
    {
     "data": {
      "text/html": [
       "<div>\n",
       "<style scoped>\n",
       "    .dataframe tbody tr th:only-of-type {\n",
       "        vertical-align: middle;\n",
       "    }\n",
       "\n",
       "    .dataframe tbody tr th {\n",
       "        vertical-align: top;\n",
       "    }\n",
       "\n",
       "    .dataframe thead th {\n",
       "        text-align: right;\n",
       "    }\n",
       "</style>\n",
       "<table border=\"1\" class=\"dataframe\">\n",
       "  <thead>\n",
       "    <tr style=\"text-align: right;\">\n",
       "      <th></th>\n",
       "      <th>Application_ID</th>\n",
       "      <th>Gender</th>\n",
       "      <th>Married</th>\n",
       "      <th>Dependents</th>\n",
       "      <th>Education</th>\n",
       "      <th>Self_Employed</th>\n",
       "      <th>Credit_History</th>\n",
       "      <th>Property_Area</th>\n",
       "      <th>Income</th>\n",
       "      <th>Application_Status</th>\n",
       "    </tr>\n",
       "  </thead>\n",
       "  <tbody>\n",
       "    <tr>\n",
       "      <th>0</th>\n",
       "      <td>LP001002</td>\n",
       "      <td>Male</td>\n",
       "      <td>No</td>\n",
       "      <td>0</td>\n",
       "      <td>Graduate</td>\n",
       "      <td>No</td>\n",
       "      <td>1</td>\n",
       "      <td>Urban</td>\n",
       "      <td>medium</td>\n",
       "      <td>Y</td>\n",
       "    </tr>\n",
       "    <tr>\n",
       "      <th>1</th>\n",
       "      <td>LP001003</td>\n",
       "      <td>Male</td>\n",
       "      <td>Yes</td>\n",
       "      <td>1</td>\n",
       "      <td>Graduate</td>\n",
       "      <td>No</td>\n",
       "      <td>1</td>\n",
       "      <td>Rural</td>\n",
       "      <td>medium</td>\n",
       "      <td>N</td>\n",
       "    </tr>\n",
       "    <tr>\n",
       "      <th>2</th>\n",
       "      <td>LP001005</td>\n",
       "      <td>Male</td>\n",
       "      <td>Yes</td>\n",
       "      <td>0</td>\n",
       "      <td>Graduate</td>\n",
       "      <td>Yes</td>\n",
       "      <td>1</td>\n",
       "      <td>Urban</td>\n",
       "      <td>low</td>\n",
       "      <td>Y</td>\n",
       "    </tr>\n",
       "    <tr>\n",
       "      <th>3</th>\n",
       "      <td>LP001006</td>\n",
       "      <td>Male</td>\n",
       "      <td>Yes</td>\n",
       "      <td>0</td>\n",
       "      <td>Not Graduate</td>\n",
       "      <td>No</td>\n",
       "      <td>1</td>\n",
       "      <td>Urban</td>\n",
       "      <td>low</td>\n",
       "      <td>Y</td>\n",
       "    </tr>\n",
       "    <tr>\n",
       "      <th>4</th>\n",
       "      <td>LP001008</td>\n",
       "      <td>Male</td>\n",
       "      <td>No</td>\n",
       "      <td>0</td>\n",
       "      <td>Graduate</td>\n",
       "      <td>No</td>\n",
       "      <td>1</td>\n",
       "      <td>Urban</td>\n",
       "      <td>medium</td>\n",
       "      <td>Y</td>\n",
       "    </tr>\n",
       "  </tbody>\n",
       "</table>\n",
       "</div>"
      ],
      "text/plain": [
       "  Application_ID Gender Married  Dependents     Education Self_Employed  \\\n",
       "0       LP001002   Male      No           0      Graduate            No   \n",
       "1       LP001003   Male     Yes           1      Graduate            No   \n",
       "2       LP001005   Male     Yes           0      Graduate           Yes   \n",
       "3       LP001006   Male     Yes           0  Not Graduate            No   \n",
       "4       LP001008   Male      No           0      Graduate            No   \n",
       "\n",
       "   Credit_History Property_Area  Income Application_Status  \n",
       "0               1         Urban  medium                  Y  \n",
       "1               1         Rural  medium                  N  \n",
       "2               1         Urban     low                  Y  \n",
       "3               1         Urban     low                  Y  \n",
       "4               1         Urban  medium                  Y  "
      ]
     },
     "execution_count": 12,
     "metadata": {},
     "output_type": "execute_result"
    }
   ],
   "source": [
    "df.head()"
   ]
  },
  {
   "cell_type": "markdown",
   "id": "38dad1d2",
   "metadata": {},
   "source": [
    "Number of self-employed applicants whose application has been approved."
   ]
  },
  {
   "cell_type": "code",
   "execution_count": 13,
   "id": "3cdfe8a5",
   "metadata": {},
   "outputs": [
    {
     "name": "stdout",
     "output_type": "stream",
     "text": [
      "Application_ID        46\n",
      "Gender                46\n",
      "Married               46\n",
      "Dependents            46\n",
      "Education             46\n",
      "Self_Employed         46\n",
      "Credit_History        46\n",
      "Property_Area         46\n",
      "Income                46\n",
      "Application_Status    46\n",
      "dtype: int64\n"
     ]
    }
   ],
   "source": [
    "self_employed_approved = df.query(\"Self_Employed == 'Yes' & Application_Status == 'Y'\").count()\n",
    "print(self_employed_approved)"
   ]
  },
  {
   "cell_type": "code",
   "execution_count": 14,
   "id": "5887368b",
   "metadata": {},
   "outputs": [
    {
     "name": "stdout",
     "output_type": "stream",
     "text": [
      "Percentage of applications approved for self-employed applicants: 9.001956947162427\n"
     ]
    }
   ],
   "source": [
    "self_employed_approved_per = self_employed_approved/df.shape[0]\n",
    "print(\"Percentage of applications approved for self-employed applicants: \"+str(self_employed_approved_per[0]*100))"
   ]
  },
  {
   "cell_type": "markdown",
   "id": "e89a4508",
   "metadata": {},
   "source": [
    "# 4. What is the % of rejections for married male applicants"
   ]
  },
  {
   "cell_type": "code",
   "execution_count": 16,
   "id": "0e2a78a2",
   "metadata": {},
   "outputs": [
    {
     "name": "stdout",
     "output_type": "stream",
     "text": [
      "Married Male with reject: 95\n",
      "Percentage of applications rejected for married man: 18.590998043052835\n"
     ]
    }
   ],
   "source": [
    "married_male_not_approved = df.query(\"Married =='Yes' & Application_Status == 'N'\").count()\n",
    "print(\"Married Male with reject: \" +str(married_male_not_approved[0]))\n",
    "married_male_not_approved_per = married_male_not_approved/df.shape[0]\n",
    "print(\"Percentage of applications rejected for married man: \"+str(married_male_not_approved_per[0]*100))"
   ]
  },
  {
   "cell_type": "markdown",
   "id": "f5976c90",
   "metadata": {},
   "source": [
    "# 5. Which property area has the maximum approval ratio"
   ]
  },
  {
   "cell_type": "code",
   "execution_count": 17,
   "id": "613f4be8",
   "metadata": {},
   "outputs": [
    {
     "data": {
      "text/plain": [
       "<AxesSubplot:xlabel='Property_Area', ylabel='count'>"
      ]
     },
     "execution_count": 17,
     "metadata": {},
     "output_type": "execute_result"
    },
    {
     "data": {
      "image/png": "[encoded data removed]",
      "text/plain": [
       "<Figure size 432x288 with 1 Axes>"
      ]
     },
     "metadata": {
      "needs_background": "light"
     },
     "output_type": "display_data"
    }
   ],
   "source": [
    "sns.countplot(df['Property_Area'])"
   ]
  },
  {
   "cell_type": "code",
   "execution_count": 18,
   "id": "af0ae5ea",
   "metadata": {},
   "outputs": [
    {
     "name": "stdout",
     "output_type": "stream",
     "text": [
      "Percentage of applications approved for Urban Area: 20.352250489236788\n",
      "Percentage of applications approved for Rural Area: 17.61252446183953\n",
      "Percentage of applications approved for Semi-Urban Area: 29.9412915851272\n"
     ]
    }
   ],
   "source": [
    "No_of_urban_approved = df.query(\"Property_Area == 'Urban' & Application_Status == 'Y'\").count()\n",
    "No_of_rural_approved = df.query(\"Property_Area == 'Rural' & Application_Status == 'Y'\").count()\n",
    "No_of_semi_urban_approved = df.query(\"Property_Area == 'Semiurban' & Application_Status == 'Y'\").count()\n",
    "per_No_of_urban_approved = No_of_urban_approved/df.shape[0]\n",
    "per_No_of_rural_approved = No_of_rural_approved/df.shape[0]\n",
    "per_No_of_semi_urban_approved = No_of_semi_urban_approved/df.shape[0]\n",
    "print(\"Percentage of applications approved for Urban Area: \"+str(per_No_of_urban_approved[0]*100))\n",
    "print(\"Percentage of applications approved for Rural Area: \"+str(per_No_of_rural_approved[0]*100))\n",
    "print(\"Percentage of applications approved for Semi-Urban Area: \"+str(per_No_of_semi_urban_approved[0]*100))"
   ]
  },
  {
   "cell_type": "markdown",
   "id": "c1d1a988",
   "metadata": {},
   "source": [
    "# 6. Find average dependents per income group"
   ]
  },
  {
   "cell_type": "code",
   "execution_count": 19,
   "id": "f0a292e5",
   "metadata": {},
   "outputs": [
    {
     "data": {
      "text/plain": [
       "<AxesSubplot:xlabel='Income', ylabel='count'>"
      ]
     },
     "execution_count": 19,
     "metadata": {},
     "output_type": "execute_result"
    },
    {
     "data": {
      "image/png": "[encoded data removed]",
      "text/plain": [
       "<Figure size 432x288 with 1 Axes>"
      ]
     },
     "metadata": {
      "needs_background": "light"
     },
     "output_type": "display_data"
    }
   ],
   "source": [
    "sns.countplot(df['Income'])"
   ]
  },
  {
   "cell_type": "markdown",
   "id": "02fadb91",
   "metadata": {},
   "source": [
    "1st line queries number of dependent in a group\n",
    "2nd line queries number of dependent in a group with zero dependent\n",
    "3rd line queries number of dependent in a group with one dependent\n",
    "4th line queries number of dependent in a group with two dependent\n",
    "5th line queries number of dependent in a group with three+ dependent\n",
    "\n",
    "for calculation i'm assuming 3+ as 3.\n",
    "for dependent 1,2,3 we count the number of rows and multiple with respected dependent to get the total dependent for the group..\n",
    "\n",
    "average for group = total/ no. of dependent in a group."
   ]
  },
  {
   "cell_type": "code",
   "execution_count": 20,
   "id": "25097a29",
   "metadata": {},
   "outputs": [
    {
     "name": "stdout",
     "output_type": "stream",
     "text": [
      "Total: 0\n",
      "Number of applicant with low Income: 273\n",
      "Average for Low Income: 0.0\n"
     ]
    }
   ],
   "source": [
    "No_of_dependent_low = df.query(\"Income == 'low'\").count()\n",
    "No_of_dependent_low_0 = df.query(\"Income == 'low' & Dependents == '0'\").count()\n",
    "No_of_dependent_low_1 = df.query(\"Income == 'low' & Dependents == '1'\").count()\n",
    "No_of_dependent_low_2 = df.query(\"Income == 'low' & Dependents == '2'\").count()\n",
    "No_of_dependent_low_3 = df.query(\"Income == 'low' & Dependents == '3+'\").count()\n",
    "total = No_of_dependent_low_1[0] + (No_of_dependent_low_2[0]*2) + (No_of_dependent_low_3[0]*3)\n",
    "print(\"Total: \"+str(total))\n",
    "print(\"Number of applicant with low Income: \"+str(No_of_dependent_low[0]))\n",
    "print(\"Average for Low Income: \"+str(total/No_of_dependent_low[0]))"
   ]
  },
  {
   "cell_type": "code",
   "execution_count": 21,
   "id": "9545bdce",
   "metadata": {},
   "outputs": [
    {
     "name": "stdout",
     "output_type": "stream",
     "text": [
      "Total: 0\n",
      "Number of applicant with medium Income: 193\n",
      "Average for medium Income: 0.0\n"
     ]
    }
   ],
   "source": [
    "No_of_dependent_medium = df.query(\"Income == 'medium'\").count()\n",
    "No_of_dependent_medium_0 = df.query(\"Income == 'medium' & Dependents == '0'\").count()\n",
    "No_of_dependent_medium_1 = df.query(\"Income == 'medium' & Dependents == '1'\").count()\n",
    "No_of_dependent_medium_2 = df.query(\"Income == 'medium' & Dependents == '2'\").count()\n",
    "No_of_dependent_medium_3 = df.query(\"Income == 'medium' & Dependents == '3+'\").count()\n",
    "total = No_of_dependent_medium_1[0] + (No_of_dependent_medium_2[0]*2) + (No_of_dependent_medium_3[0]*3)\n",
    "print(\"Total: \"+str(total))\n",
    "print(\"Number of applicant with medium Income: \"+str(No_of_dependent_medium[0]))\n",
    "print(\"Average for medium Income: \"+str(total/No_of_dependent_medium[0]))"
   ]
  },
  {
   "cell_type": "code",
   "execution_count": 22,
   "id": "fc787c40",
   "metadata": {},
   "outputs": [
    {
     "name": "stdout",
     "output_type": "stream",
     "text": [
      "Total: 0\n",
      "Number of applicant with high Income: 45\n",
      "Average for high Income: 0.0\n"
     ]
    }
   ],
   "source": [
    "No_of_dependent_high = df.query(\"Income == 'high'\").count()\n",
    "No_of_dependent_high_0 = df.query(\"Income == 'high' & Dependents == '0'\").count()\n",
    "No_of_dependent_high_1 = df.query(\"Income == 'high' & Dependents == '1'\").count()\n",
    "No_of_dependent_high_2 = df.query(\"Income == 'high' & Dependents == '2'\").count()\n",
    "No_of_dependent_high_3 = df.query(\"Income == 'high' & Dependents == '3+'\").count()\n",
    "total = No_of_dependent_high_1[0] + (No_of_dependent_high_2[0]*2) + (No_of_dependent_high_3[0]*3)\n",
    "print(\"Total: \"+str(total))\n",
    "print(\"Number of applicant with high Income: \"+str(No_of_dependent_high[0]))\n",
    "print(\"Average for high Income: \"+str(total/No_of_dependent_high[0]))"
   ]
  },
  {
   "cell_type": "markdown",
   "id": "2e10a24b",
   "metadata": {},
   "source": [
    "# 7. Create a simple predictive model to assess whether a loan application will be approved or rejected and provide the accuracy score"
   ]
  },
  {
   "cell_type": "markdown",
   "id": "a0ebcc4d",
   "metadata": {},
   "source": [
    "# Label Encoding"
   ]
  },
  {
   "cell_type": "code",
   "execution_count": 23,
   "id": "37338c70",
   "metadata": {},
   "outputs": [
    {
     "data": {
      "text/html": [
       "<div>\n",
       "<style scoped>\n",
       "    .dataframe tbody tr th:only-of-type {\n",
       "        vertical-align: middle;\n",
       "    }\n",
       "\n",
       "    .dataframe tbody tr th {\n",
       "        vertical-align: top;\n",
       "    }\n",
       "\n",
       "    .dataframe thead th {\n",
       "        text-align: right;\n",
       "    }\n",
       "</style>\n",
       "<table border=\"1\" class=\"dataframe\">\n",
       "  <thead>\n",
       "    <tr style=\"text-align: right;\">\n",
       "      <th></th>\n",
       "      <th>Application_ID</th>\n",
       "      <th>Gender</th>\n",
       "      <th>Married</th>\n",
       "      <th>Dependents</th>\n",
       "      <th>Education</th>\n",
       "      <th>Self_Employed</th>\n",
       "      <th>Credit_History</th>\n",
       "      <th>Property_Area</th>\n",
       "      <th>Income</th>\n",
       "      <th>Application_Status</th>\n",
       "    </tr>\n",
       "  </thead>\n",
       "  <tbody>\n",
       "    <tr>\n",
       "      <th>0</th>\n",
       "      <td>LP001002</td>\n",
       "      <td>Male</td>\n",
       "      <td>No</td>\n",
       "      <td>0</td>\n",
       "      <td>Graduate</td>\n",
       "      <td>No</td>\n",
       "      <td>1</td>\n",
       "      <td>Urban</td>\n",
       "      <td>medium</td>\n",
       "      <td>Y</td>\n",
       "    </tr>\n",
       "    <tr>\n",
       "      <th>1</th>\n",
       "      <td>LP001003</td>\n",
       "      <td>Male</td>\n",
       "      <td>Yes</td>\n",
       "      <td>1</td>\n",
       "      <td>Graduate</td>\n",
       "      <td>No</td>\n",
       "      <td>1</td>\n",
       "      <td>Rural</td>\n",
       "      <td>medium</td>\n",
       "      <td>N</td>\n",
       "    </tr>\n",
       "    <tr>\n",
       "      <th>2</th>\n",
       "      <td>LP001005</td>\n",
       "      <td>Male</td>\n",
       "      <td>Yes</td>\n",
       "      <td>0</td>\n",
       "      <td>Graduate</td>\n",
       "      <td>Yes</td>\n",
       "      <td>1</td>\n",
       "      <td>Urban</td>\n",
       "      <td>low</td>\n",
       "      <td>Y</td>\n",
       "    </tr>\n",
       "    <tr>\n",
       "      <th>3</th>\n",
       "      <td>LP001006</td>\n",
       "      <td>Male</td>\n",
       "      <td>Yes</td>\n",
       "      <td>0</td>\n",
       "      <td>Not Graduate</td>\n",
       "      <td>No</td>\n",
       "      <td>1</td>\n",
       "      <td>Urban</td>\n",
       "      <td>low</td>\n",
       "      <td>Y</td>\n",
       "    </tr>\n",
       "    <tr>\n",
       "      <th>4</th>\n",
       "      <td>LP001008</td>\n",
       "      <td>Male</td>\n",
       "      <td>No</td>\n",
       "      <td>0</td>\n",
       "      <td>Graduate</td>\n",
       "      <td>No</td>\n",
       "      <td>1</td>\n",
       "      <td>Urban</td>\n",
       "      <td>medium</td>\n",
       "      <td>Y</td>\n",
       "    </tr>\n",
       "  </tbody>\n",
       "</table>\n",
       "</div>"
      ],
      "text/plain": [
       "  Application_ID Gender Married  Dependents     Education Self_Employed  \\\n",
       "0       LP001002   Male      No           0      Graduate            No   \n",
       "1       LP001003   Male     Yes           1      Graduate            No   \n",
       "2       LP001005   Male     Yes           0      Graduate           Yes   \n",
       "3       LP001006   Male     Yes           0  Not Graduate            No   \n",
       "4       LP001008   Male      No           0      Graduate            No   \n",
       "\n",
       "   Credit_History Property_Area  Income Application_Status  \n",
       "0               1         Urban  medium                  Y  \n",
       "1               1         Rural  medium                  N  \n",
       "2               1         Urban     low                  Y  \n",
       "3               1         Urban     low                  Y  \n",
       "4               1         Urban  medium                  Y  "
      ]
     },
     "execution_count": 23,
     "metadata": {},
     "output_type": "execute_result"
    }
   ],
   "source": [
    "df.head()"
   ]
  },
  {
   "cell_type": "code",
   "execution_count": 24,
   "id": "91950e44",
   "metadata": {},
   "outputs": [
    {
     "data": {
      "text/html": [
       "<div>\n",
       "<style scoped>\n",
       "    .dataframe tbody tr th:only-of-type {\n",
       "        vertical-align: middle;\n",
       "    }\n",
       "\n",
       "    .dataframe tbody tr th {\n",
       "        vertical-align: top;\n",
       "    }\n",
       "\n",
       "    .dataframe thead th {\n",
       "        text-align: right;\n",
       "    }\n",
       "</style>\n",
       "<table border=\"1\" class=\"dataframe\">\n",
       "  <thead>\n",
       "    <tr style=\"text-align: right;\">\n",
       "      <th></th>\n",
       "      <th>Application_ID</th>\n",
       "      <th>Gender</th>\n",
       "      <th>Married</th>\n",
       "      <th>Dependents</th>\n",
       "      <th>Education</th>\n",
       "      <th>Self_Employed</th>\n",
       "      <th>Credit_History</th>\n",
       "      <th>Property_Area</th>\n",
       "      <th>Income</th>\n",
       "      <th>Application_Status</th>\n",
       "      <th>gender</th>\n",
       "      <th>married</th>\n",
       "      <th>education</th>\n",
       "      <th>self_Employed</th>\n",
       "      <th>property_Area</th>\n",
       "      <th>income</th>\n",
       "      <th>application_Status</th>\n",
       "    </tr>\n",
       "  </thead>\n",
       "  <tbody>\n",
       "    <tr>\n",
       "      <th>0</th>\n",
       "      <td>LP001002</td>\n",
       "      <td>Male</td>\n",
       "      <td>No</td>\n",
       "      <td>0</td>\n",
       "      <td>Graduate</td>\n",
       "      <td>No</td>\n",
       "      <td>1</td>\n",
       "      <td>Urban</td>\n",
       "      <td>medium</td>\n",
       "      <td>Y</td>\n",
       "      <td>1</td>\n",
       "      <td>0</td>\n",
       "      <td>0</td>\n",
       "      <td>0</td>\n",
       "      <td>2</td>\n",
       "      <td>2</td>\n",
       "      <td>1</td>\n",
       "    </tr>\n",
       "    <tr>\n",
       "      <th>1</th>\n",
       "      <td>LP001003</td>\n",
       "      <td>Male</td>\n",
       "      <td>Yes</td>\n",
       "      <td>1</td>\n",
       "      <td>Graduate</td>\n",
       "      <td>No</td>\n",
       "      <td>1</td>\n",
       "      <td>Rural</td>\n",
       "      <td>medium</td>\n",
       "      <td>N</td>\n",
       "      <td>1</td>\n",
       "      <td>1</td>\n",
       "      <td>0</td>\n",
       "      <td>0</td>\n",
       "      <td>0</td>\n",
       "      <td>2</td>\n",
       "      <td>0</td>\n",
       "    </tr>\n",
       "    <tr>\n",
       "      <th>2</th>\n",
       "      <td>LP001005</td>\n",
       "      <td>Male</td>\n",
       "      <td>Yes</td>\n",
       "      <td>0</td>\n",
       "      <td>Graduate</td>\n",
       "      <td>Yes</td>\n",
       "      <td>1</td>\n",
       "      <td>Urban</td>\n",
       "      <td>low</td>\n",
       "      <td>Y</td>\n",
       "      <td>1</td>\n",
       "      <td>1</td>\n",
       "      <td>0</td>\n",
       "      <td>1</td>\n",
       "      <td>2</td>\n",
       "      <td>1</td>\n",
       "      <td>1</td>\n",
       "    </tr>\n",
       "    <tr>\n",
       "      <th>3</th>\n",
       "      <td>LP001006</td>\n",
       "      <td>Male</td>\n",
       "      <td>Yes</td>\n",
       "      <td>0</td>\n",
       "      <td>Not Graduate</td>\n",
       "      <td>No</td>\n",
       "      <td>1</td>\n",
       "      <td>Urban</td>\n",
       "      <td>low</td>\n",
       "      <td>Y</td>\n",
       "      <td>1</td>\n",
       "      <td>1</td>\n",
       "      <td>1</td>\n",
       "      <td>0</td>\n",
       "      <td>2</td>\n",
       "      <td>1</td>\n",
       "      <td>1</td>\n",
       "    </tr>\n",
       "    <tr>\n",
       "      <th>4</th>\n",
       "      <td>LP001008</td>\n",
       "      <td>Male</td>\n",
       "      <td>No</td>\n",
       "      <td>0</td>\n",
       "      <td>Graduate</td>\n",
       "      <td>No</td>\n",
       "      <td>1</td>\n",
       "      <td>Urban</td>\n",
       "      <td>medium</td>\n",
       "      <td>Y</td>\n",
       "      <td>1</td>\n",
       "      <td>0</td>\n",
       "      <td>0</td>\n",
       "      <td>0</td>\n",
       "      <td>2</td>\n",
       "      <td>2</td>\n",
       "      <td>1</td>\n",
       "    </tr>\n",
       "  </tbody>\n",
       "</table>\n",
       "</div>"
      ],
      "text/plain": [
       "  Application_ID Gender Married  Dependents     Education Self_Employed  \\\n",
       "0       LP001002   Male      No           0      Graduate            No   \n",
       "1       LP001003   Male     Yes           1      Graduate            No   \n",
       "2       LP001005   Male     Yes           0      Graduate           Yes   \n",
       "3       LP001006   Male     Yes           0  Not Graduate            No   \n",
       "4       LP001008   Male      No           0      Graduate            No   \n",
       "\n",
       "   Credit_History Property_Area  Income Application_Status  gender  married  \\\n",
       "0               1         Urban  medium                  Y       1        0   \n",
       "1               1         Rural  medium                  N       1        1   \n",
       "2               1         Urban     low                  Y       1        1   \n",
       "3               1         Urban     low                  Y       1        1   \n",
       "4               1         Urban  medium                  Y       1        0   \n",
       "\n",
       "   education  self_Employed  property_Area  income  application_Status  \n",
       "0          0              0              2       2                   1  \n",
       "1          0              0              0       2                   0  \n",
       "2          0              1              2       1                   1  \n",
       "3          1              0              2       1                   1  \n",
       "4          0              0              2       2                   1  "
      ]
     },
     "execution_count": 24,
     "metadata": {},
     "output_type": "execute_result"
    }
   ],
   "source": [
    "from sklearn.preprocessing import LabelEncoder\n",
    "lb_make = LabelEncoder()\n",
    "df['gender'] = lb_make.fit_transform(df['Gender'])\n",
    "df['married'] = lb_make.fit_transform(df['Married'])\n",
    "df['education'] = lb_make.fit_transform(df['Education'])\n",
    "df['self_Employed'] = lb_make.fit_transform(df['Self_Employed'])\n",
    "df['property_Area'] = lb_make.fit_transform(df['Property_Area'])\n",
    "df['income'] = lb_make.fit_transform(df['Income'])\n",
    "df['application_Status'] = lb_make.fit_transform(df['Application_Status'])\n",
    "df.head()"
   ]
  },
  {
   "cell_type": "code",
   "execution_count": 25,
   "id": "d1f81cac",
   "metadata": {},
   "outputs": [
    {
     "data": {
      "text/html": [
       "<div>\n",
       "<style scoped>\n",
       "    .dataframe tbody tr th:only-of-type {\n",
       "        vertical-align: middle;\n",
       "    }\n",
       "\n",
       "    .dataframe tbody tr th {\n",
       "        vertical-align: top;\n",
       "    }\n",
       "\n",
       "    .dataframe thead th {\n",
       "        text-align: right;\n",
       "    }\n",
       "</style>\n",
       "<table border=\"1\" class=\"dataframe\">\n",
       "  <thead>\n",
       "    <tr style=\"text-align: right;\">\n",
       "      <th></th>\n",
       "      <th>Dependents</th>\n",
       "      <th>Credit_History</th>\n",
       "      <th>gender</th>\n",
       "      <th>married</th>\n",
       "      <th>education</th>\n",
       "      <th>self_Employed</th>\n",
       "      <th>property_Area</th>\n",
       "      <th>income</th>\n",
       "      <th>application_Status</th>\n",
       "    </tr>\n",
       "  </thead>\n",
       "  <tbody>\n",
       "    <tr>\n",
       "      <th>0</th>\n",
       "      <td>0</td>\n",
       "      <td>1</td>\n",
       "      <td>1</td>\n",
       "      <td>0</td>\n",
       "      <td>0</td>\n",
       "      <td>0</td>\n",
       "      <td>2</td>\n",
       "      <td>2</td>\n",
       "      <td>1</td>\n",
       "    </tr>\n",
       "    <tr>\n",
       "      <th>1</th>\n",
       "      <td>1</td>\n",
       "      <td>1</td>\n",
       "      <td>1</td>\n",
       "      <td>1</td>\n",
       "      <td>0</td>\n",
       "      <td>0</td>\n",
       "      <td>0</td>\n",
       "      <td>2</td>\n",
       "      <td>0</td>\n",
       "    </tr>\n",
       "    <tr>\n",
       "      <th>2</th>\n",
       "      <td>0</td>\n",
       "      <td>1</td>\n",
       "      <td>1</td>\n",
       "      <td>1</td>\n",
       "      <td>0</td>\n",
       "      <td>1</td>\n",
       "      <td>2</td>\n",
       "      <td>1</td>\n",
       "      <td>1</td>\n",
       "    </tr>\n",
       "    <tr>\n",
       "      <th>3</th>\n",
       "      <td>0</td>\n",
       "      <td>1</td>\n",
       "      <td>1</td>\n",
       "      <td>1</td>\n",
       "      <td>1</td>\n",
       "      <td>0</td>\n",
       "      <td>2</td>\n",
       "      <td>1</td>\n",
       "      <td>1</td>\n",
       "    </tr>\n",
       "    <tr>\n",
       "      <th>4</th>\n",
       "      <td>0</td>\n",
       "      <td>1</td>\n",
       "      <td>1</td>\n",
       "      <td>0</td>\n",
       "      <td>0</td>\n",
       "      <td>0</td>\n",
       "      <td>2</td>\n",
       "      <td>2</td>\n",
       "      <td>1</td>\n",
       "    </tr>\n",
       "  </tbody>\n",
       "</table>\n",
       "</div>"
      ],
      "text/plain": [
       "   Dependents  Credit_History  gender  married  education  self_Employed  \\\n",
       "0           0               1       1        0          0              0   \n",
       "1           1               1       1        1          0              0   \n",
       "2           0               1       1        1          0              1   \n",
       "3           0               1       1        1          1              0   \n",
       "4           0               1       1        0          0              0   \n",
       "\n",
       "   property_Area  income  application_Status  \n",
       "0              2       2                   1  \n",
       "1              0       2                   0  \n",
       "2              2       1                   1  \n",
       "3              2       1                   1  \n",
       "4              2       2                   1  "
      ]
     },
     "execution_count": 25,
     "metadata": {},
     "output_type": "execute_result"
    }
   ],
   "source": [
    "cols = ['Application_ID','Gender','Married','Education','Self_Employed','Property_Area','Income','Application_Status']\n",
    "df = df.drop(columns=cols, axis=1)\n",
    "df.head()"
   ]
  },
  {
   "cell_type": "markdown",
   "id": "9d92ed35",
   "metadata": {},
   "source": [
    "# Train-Test Split"
   ]
  },
  {
   "cell_type": "code",
   "execution_count": 26,
   "id": "8c6a14c1",
   "metadata": {},
   "outputs": [],
   "source": [
    "# specify input and output attributes\n",
    "X = df.drop(columns=['application_Status'], axis=1)\n",
    "y = df['application_Status']"
   ]
  },
  {
   "cell_type": "code",
   "execution_count": 27,
   "id": "6f4121a4",
   "metadata": {},
   "outputs": [],
   "source": [
    "from sklearn.model_selection import train_test_split\n",
    "x_train, x_test, y_train, y_test = train_test_split(X, y, test_size=0.25, random_state=0)"
   ]
  },
  {
   "cell_type": "markdown",
   "id": "2b1a5b16",
   "metadata": {},
   "source": [
    "# Model Training"
   ]
  },
  {
   "cell_type": "code",
   "execution_count": 28,
   "id": "bdec3bbc",
   "metadata": {},
   "outputs": [],
   "source": [
    "# classify function\n",
    "from sklearn.model_selection import cross_val_score\n",
    "def classify(model, x, y):\n",
    "    x_train, x_test, y_train, y_test = train_test_split(X, y, test_size=0.25, random_state=100)\n",
    "    model.fit(x_train, y_train)\n",
    "    print(\"Accuracy is\", model.score(x_test, y_test)*100)\n",
    "    # cross validation - it is used for better validation of model\n",
    "    # eg: cv-5, train-4, test-1\n",
    "    score = cross_val_score(model, x, y, cv=5)\n",
    "    print(\"Cross validation is\",np.mean(score)*100)"
   ]
  },
  {
   "cell_type": "code",
   "execution_count": 29,
   "id": "4f68415a",
   "metadata": {},
   "outputs": [
    {
     "name": "stdout",
     "output_type": "stream",
     "text": [
      "Accuracy is 83.59375\n",
      "Cross validation is 80.81857985912812\n"
     ]
    }
   ],
   "source": [
    "from sklearn.linear_model import LogisticRegression\n",
    "model = LogisticRegression()\n",
    "classify(model, X, y)"
   ]
  },
  {
   "cell_type": "code",
   "execution_count": 30,
   "id": "b75187cb",
   "metadata": {},
   "outputs": [
    {
     "name": "stdout",
     "output_type": "stream",
     "text": [
      "Accuracy is 79.6875\n",
      "Cross validation is 72.60803350466401\n"
     ]
    }
   ],
   "source": [
    "from sklearn.tree import DecisionTreeClassifier\n",
    "model = DecisionTreeClassifier()\n",
    "classify(model, X, y)"
   ]
  },
  {
   "cell_type": "code",
   "execution_count": 31,
   "id": "4654c99e",
   "metadata": {},
   "outputs": [
    {
     "name": "stdout",
     "output_type": "stream",
     "text": [
      "Accuracy is 81.25\n",
      "Cross validation is 72.60803350466401\n"
     ]
    }
   ],
   "source": [
    "from sklearn.tree import DecisionTreeClassifier\n",
    "model = DecisionTreeClassifier()\n",
    "classify(model, X, y)"
   ]
  },
  {
   "cell_type": "code",
   "execution_count": 32,
   "id": "ef9af837",
   "metadata": {},
   "outputs": [
    {
     "name": "stdout",
     "output_type": "stream",
     "text": [
      "Accuracy is 78.90625\n",
      "Cross validation is 76.52008376165999\n"
     ]
    }
   ],
   "source": [
    "from sklearn.ensemble import RandomForestClassifier\n",
    "model = RandomForestClassifier()\n",
    "classify(model, X, y)"
   ]
  },
  {
   "cell_type": "code",
   "execution_count": 33,
   "id": "1251de30",
   "metadata": {},
   "outputs": [
    {
     "name": "stdout",
     "output_type": "stream",
     "text": [
      "Accuracy is 79.6875\n",
      "Cross validation is 74.5669141442985\n"
     ]
    }
   ],
   "source": [
    "from sklearn.ensemble import ExtraTreesClassifier\n",
    "model = ExtraTreesClassifier()\n",
    "classify(model, X, y)"
   ]
  },
  {
   "cell_type": "markdown",
   "id": "4e200025",
   "metadata": {},
   "source": [
    "# Hyperparameter tuning"
   ]
  },
  {
   "cell_type": "code",
   "execution_count": 34,
   "id": "9dd3e924",
   "metadata": {},
   "outputs": [
    {
     "name": "stdout",
     "output_type": "stream",
     "text": [
      "Accuracy is 83.59375\n",
      "Cross validation is 80.62250142775558\n"
     ]
    }
   ],
   "source": [
    "model = RandomForestClassifier(n_estimators=100, min_samples_split=25, max_depth=15, max_features=1)\n",
    "classify(model, X, y)"
   ]
  },
  {
   "cell_type": "code",
   "execution_count": 35,
   "id": "3a172163",
   "metadata": {},
   "outputs": [
    {
     "data": {
      "text/plain": [
       "RandomForestClassifier()"
      ]
     },
     "execution_count": 35,
     "metadata": {},
     "output_type": "execute_result"
    }
   ],
   "source": [
    "model = RandomForestClassifier()\n",
    "model.fit(x_train, y_train)"
   ]
  },
  {
   "cell_type": "code",
   "execution_count": 36,
   "id": "2056ff38",
   "metadata": {},
   "outputs": [
    {
     "data": {
      "text/plain": [
       "array([[24, 19],\n",
       "       [ 9, 76]], dtype=int64)"
      ]
     },
     "execution_count": 36,
     "metadata": {},
     "output_type": "execute_result"
    }
   ],
   "source": [
    "from sklearn.metrics import confusion_matrix\n",
    "y_pred = model.predict(x_test)\n",
    "cm = confusion_matrix(y_test, y_pred)\n",
    "cm"
   ]
  },
  {
   "cell_type": "code",
   "execution_count": 37,
   "id": "6947ba73",
   "metadata": {},
   "outputs": [
    {
     "data": {
      "text/plain": [
       "<AxesSubplot:>"
      ]
     },
     "execution_count": 37,
     "metadata": {},
     "output_type": "execute_result"
    },
    {
     "data": {
      "image/png": "[encoded data removed]",
      "text/plain": [
       "<Figure size 432x288 with 2 Axes>"
      ]
     },
     "metadata": {
      "needs_background": "light"
     },
     "output_type": "display_data"
    }
   ],
   "source": [
    "sns.heatmap(cm, annot=True)"
   ]
  },
  {
   "cell_type": "code",
   "execution_count": null,
   "id": "bb509751",
   "metadata": {},
   "outputs": [],
   "source": []
  }
 ],
 "metadata": {
  "kernelspec": {
   "display_name": "Python 3",
   "language": "python",
   "name": "python3"
  },
  "language_info": {
   "codemirror_mode": {
    "name": "ipython",
    "version": 3
   },
   "file_extension": ".py",
   "mimetype": "text/x-python",
   "name": "python",
   "nbconvert_exporter": "python",
   "pygments_lexer": "ipython3",
   "version": "3.8.8"
  }
 },
 "nbformat": 4,
 "nbformat_minor": 5
}
